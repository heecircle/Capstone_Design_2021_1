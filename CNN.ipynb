{
  "nbformat": 4,
  "nbformat_minor": 0,
  "metadata": {
    "colab": {
      "name": "CNN.ipynb",
      "provenance": [],
      "collapsed_sections": [],
      "include_colab_link": true
    },
    "kernelspec": {
      "name": "python3",
      "display_name": "Python 3"
    },
    "language_info": {
      "name": "python"
    }
  },
  "cells": [
    {
      "cell_type": "markdown",
      "metadata": {
        "id": "view-in-github",
        "colab_type": "text"
      },
      "source": [
        "<a href=\"https://colab.research.google.com/github/yhw991228/Capstone_Design_2021_1/blob/main/CNN.ipynb\" target=\"_parent\"><img src=\"https://colab.research.google.com/assets/colab-badge.svg\" alt=\"Open In Colab\"/></a>"
      ]
    },
    {
      "cell_type": "code",
      "metadata": {
        "id": "wBhTNBH67aii"
      },
      "source": [
        "import numpy as np\n",
        "from google.colab import drive"
      ],
      "execution_count": null,
      "outputs": []
    },
    {
      "cell_type": "code",
      "metadata": {
        "id": "VPdOLhLD7lHI"
      },
      "source": [
        "import sys\n",
        "import keras\n",
        "from keras.models import Sequential\n",
        "from keras.layers import Dense, Dropout, Flatten\n",
        "from tensorflow.keras import optimizers\n",
        "from keras.layers.convolutional import Conv2D, MaxPooling2D\n",
        "import numpy as np\n",
        "import pandas as pd\n",
        "import os\n",
        "from pandas import Series, DataFrame\n",
        "from keras.layers import BatchNormalization, Dropout"
      ],
      "execution_count": null,
      "outputs": []
    },
    {
      "cell_type": "code",
      "metadata": {
        "colab": {
          "base_uri": "https://localhost:8080/"
        },
        "id": "qsxzS19i7mOS",
        "outputId": "61032a6e-ec8f-4549-99a0-3897d4388930"
      },
      "source": [
        "drive.mount('/content/drive')"
      ],
      "execution_count": null,
      "outputs": [
        {
          "output_type": "stream",
          "text": [
            "Drive already mounted at /content/drive; to attempt to forcibly remount, call drive.mount(\"/content/drive\", force_remount=True).\n"
          ],
          "name": "stdout"
        }
      ]
    },
    {
      "cell_type": "code",
      "metadata": {
        "id": "QZDCxAnh7uHy"
      },
      "source": [
        "import csv"
      ],
      "execution_count": null,
      "outputs": []
    },
    {
      "cell_type": "code",
      "metadata": {
        "id": "bgTsSfqt8aZ7"
      },
      "source": [
        "spot_data_path=\"/content/drive/Shareddrives/산수프 여러분 힘내요 사랑해요/data/refinedata/preprocessing_original-utf8.csv\"\n",
        "rain_data_path=\"/content/drive/Shareddrives/산수프 여러분 힘내요 사랑해요/data/refinedata/preprocessing_rain_spot-utf8.csv\"\n",
        "temp_data_path=\"/content/drive/Shareddrives/산수프 여러분 힘내요 사랑해요/data/refinedata/preprocessing_temp_spot-utf8.csv\""
      ],
      "execution_count": null,
      "outputs": []
    },
    {
      "cell_type": "code",
      "metadata": {
        "id": "0eu9FpuN8hSc"
      },
      "source": [
        "rain_spot= pd.read_csv(rain_data_path)\n",
        "temp_spot= pd.read_csv(temp_data_path)\n",
        "spot_data= pd.read_csv(spot_data_path)"
      ],
      "execution_count": null,
      "outputs": []
    },
    {
      "cell_type": "code",
      "metadata": {
        "id": "pLoXvc1u9Kfi"
      },
      "source": [
        "rain_spot_list=rain_spot.values\n",
        "temp_spot_list=temp_spot.values\n",
        "spot_data_list=spot_data.values"
      ],
      "execution_count": null,
      "outputs": []
    },
    {
      "cell_type": "code",
      "metadata": {
        "id": "FQ716vqxcFyp"
      },
      "source": [
        "spot_data_2020_path=\"/content/drive/Shareddrives/산수프 여러분 힘내요 사랑해요/data/refinedata/2020_preprocessing_original.csv\"\n",
        "rain_data_2020_path=\"/content/drive/Shareddrives/산수프 여러분 힘내요 사랑해요/data/refinedata/2020_preprocessing_rain.csv\"\n",
        "temp_data_2020_path=\"/content/drive/Shareddrives/산수프 여러분 힘내요 사랑해요/data/refinedata/2020_preprocessing_temp.csv\""
      ],
      "execution_count": null,
      "outputs": []
    },
    {
      "cell_type": "code",
      "metadata": {
        "id": "vycKNQercPQS"
      },
      "source": [
        "spot_2020=pd.read_csv(spot_data_2020_path)\n",
        "rain_2020=pd.read_csv(rain_data_2020_path)\n",
        "temp_2020=pd.read_csv(temp_data_2020_path)\n",
        "spot_2020_list=spot_2020.values\n",
        "rain_2020_list=rain_2020.values\n",
        "temp_2020_list=temp_2020.values"
      ],
      "execution_count": null,
      "outputs": []
    },
    {
      "cell_type": "code",
      "metadata": {
        "colab": {
          "base_uri": "https://localhost:8080/"
        },
        "id": "f1HLQAvveBKM",
        "outputId": "5095024b-060a-43cb-b8e7-52bad0263644"
      },
      "source": [
        "print(len(spot_2020_list),len(rain_2020_list),len(temp_2020_list))\n",
        "print(rain_2020.shape,spot_2020.shape,temp_2020.shape,rain_spot.shape)"
      ],
      "execution_count": null,
      "outputs": [
        {
          "output_type": "stream",
          "text": [
            "121 121 121\n",
            "(121, 367) (121, 367) (121, 367) (112, 366)\n"
          ],
          "name": "stdout"
        }
      ]
    },
    {
      "cell_type": "code",
      "metadata": {
        "id": "-pKYNCZE97k9"
      },
      "source": [
        "input_data=np.array([])\n",
        "for i in range(0,rain_spot.shape[0]):\n",
        "    for j in range(1,rain_spot.shape[1]):\n",
        "        a=[i,rain_spot_list[i][j],temp_spot_list[i][j]] #장소 i , 시간에 맞춘 강수량, 온도\n",
        "        arr = np.array(a)\n",
        "        input_data=np.append(input_data,arr)\n",
        "\n",
        "input_data=input_data.reshape(rain_spot.shape[0]*(rain_spot.shape[1]-1),3,1,1)"
      ],
      "execution_count": null,
      "outputs": []
    },
    {
      "cell_type": "code",
      "metadata": {
        "id": "WGqrZ5wu99lz"
      },
      "source": [
        "output_data=np.array([])\n",
        "for i in range(0,rain_spot.shape[0]):\n",
        "    for j in range(1,rain_spot.shape[1]):\n",
        "        a=[spot_data_list[i][j]]\n",
        "        arr=np.array(a)\n",
        "        output_data=np.append(output_data,arr)\n",
        "\n",
        "output_data=output_data.reshape(rain_spot.shape[0]*(rain_spot.shape[1]-1),1)"
      ],
      "execution_count": null,
      "outputs": []
    },
    {
      "cell_type": "code",
      "metadata": {
        "id": "pKUmmzOjuvlO"
      },
      "source": [
        "space=[]\n",
        "index=-1\n",
        "for i in range(112):\n",
        "  space.append(temp_spot_list[i][0])\n",
        "alt=112"
      ],
      "execution_count": null,
      "outputs": []
    },
    {
      "cell_type": "code",
      "metadata": {
        "colab": {
          "base_uri": "https://localhost:8080/"
        },
        "id": "2wcU9r2Ld5ai",
        "outputId": "2c89b62d-f8d9-4ef5-c621-a7fb7d34682f"
      },
      "source": [
        "input_2020_data=np.array([])\n",
        "\n",
        "for i in range(0,spot_2020.shape[0]):\n",
        "  if spot_2020['Unnamed: 0'][i] in space:\n",
        "    index=space.index(spot_2020['Unnamed: 0'][i])\n",
        "  else:\n",
        "    index=alt\n",
        "    alt+=1\n",
        "  for j in range(1,spot_2020.shape[1]):\n",
        "       a=[index,rain_2020_list[i][j],temp_2020_list[i][j]] #장소 i , 시간에 맞춘 강수량, 온도\n",
        "       arr = np.array(a)\n",
        "       input_2020_data=np.append(input_2020_data,arr)\n",
        "print(type(input_2020_data),spot_2020.shape,input_2020_data.shape)\n",
        "input_2020_data=input_2020_data.reshape(121*366,3,1,1)"
      ],
      "execution_count": null,
      "outputs": [
        {
          "output_type": "stream",
          "text": [
            "<class 'numpy.ndarray'> (121, 367) (132858,)\n"
          ],
          "name": "stdout"
        }
      ]
    },
    {
      "cell_type": "code",
      "metadata": {
        "id": "MJazjmRlhBNc"
      },
      "source": [
        "output_2020_data=np.array([])\n",
        "for i in range(0,spot_2020.shape[0]):\n",
        "  for j in range(1,spot_2020.shape[1]):\n",
        "        a=[spot_2020_list[i][j]]\n",
        "        arr=np.array(a)\n",
        "        output_2020_data=np.append(output_2020_data,arr)\n",
        "\n",
        "output_2020_data=output_2020_data.reshape(121*366,1)"
      ],
      "execution_count": null,
      "outputs": []
    },
    {
      "cell_type": "code",
      "metadata": {
        "id": "x_78hDNXv9cm"
      },
      "source": [
        "x_train=input_data\n",
        "y_train=output_data\n",
        "x_test=input_2020_data\n",
        "y_test=output_2020_data\n",
        "img_rows=3\n",
        "img_cols=1"
      ],
      "execution_count": null,
      "outputs": []
    },
    {
      "cell_type": "code",
      "metadata": {
        "colab": {
          "base_uri": "https://localhost:8080/"
        },
        "id": "NgA5-4nag5SC",
        "outputId": "4c9cb8b7-339e-4cc1-f759-02612be091cb"
      },
      "source": [
        "print(x_train.shape,y_train.shape,x_test.shape,y_test.shape)"
      ],
      "execution_count": null,
      "outputs": [
        {
          "output_type": "stream",
          "text": [
            "(40880, 3, 1, 1) (40880, 1) (44286, 3, 1, 1) (44286, 1)\n"
          ],
          "name": "stdout"
        }
      ]
    },
    {
      "cell_type": "code",
      "metadata": {
        "colab": {
          "base_uri": "https://localhost:8080/"
        },
        "id": "5cdtEKDx-D4g",
        "outputId": "9fe15d76-4250-4424-9172-9b761554ce92"
      },
      "source": [
        "input_shape = (img_rows, img_cols, 1)\n",
        "\n",
        "x_train = x_train.astype('float32')/(x_train.max()-x_train.min()) #min max찾아서 0과 1 사이 값으로 만들어 놓기\n",
        "x_test = x_test.astype('float32')/(x_test.max()-x_train.min())\n",
        "x_test.max()"
      ],
      "execution_count": null,
      "outputs": [
        {
          "output_type": "execute_result",
          "data": {
            "text/plain": [
              "1.0"
            ]
          },
          "metadata": {
            "tags": []
          },
          "execution_count": 18
        }
      ]
    },
    {
      "cell_type": "code",
      "metadata": {
        "colab": {
          "base_uri": "https://localhost:8080/"
        },
        "id": "4KqRG6Jw-Fg5",
        "outputId": "1db606e4-ba59-42c1-ff80-d2fdd5ae177c"
      },
      "source": [
        "print('x_train shape:', x_train.shape)\n",
        "print(x_train.shape[0], 'train samples')\n",
        "print(x_test.shape[0], 'test samples')"
      ],
      "execution_count": null,
      "outputs": [
        {
          "output_type": "stream",
          "text": [
            "x_train shape: (40880, 3, 1, 1)\n",
            "40880 train samples\n",
            "44286 test samples\n"
          ],
          "name": "stdout"
        }
      ]
    },
    {
      "cell_type": "code",
      "metadata": {
        "id": "wvTv1WP3w3FV"
      },
      "source": [
        "num_classes=2"
      ],
      "execution_count": null,
      "outputs": []
    },
    {
      "cell_type": "code",
      "metadata": {
        "id": "VhSUhS-TQINk"
      },
      "source": [
        "import tensorflow as tf"
      ],
      "execution_count": null,
      "outputs": []
    },
    {
      "cell_type": "code",
      "metadata": {
        "id": "q6l1MFAu-KA1"
      },
      "source": [
        "y_train = tf.keras.utils.to_categorical(y_train, num_classes) \n",
        "y_test = tf.keras.utils.to_categorical(y_test, num_classes)"
      ],
      "execution_count": null,
      "outputs": []
    },
    {
      "cell_type": "code",
      "metadata": {
        "id": "o8faA7ft-G-1"
      },
      "source": [
        "num_classes = 2"
      ],
      "execution_count": null,
      "outputs": []
    },
    {
      "cell_type": "code",
      "metadata": {
        "colab": {
          "base_uri": "https://localhost:8080/"
        },
        "id": "y24jnOEK-KuU",
        "outputId": "1661ea2a-dd58-468e-8759-ee8a4519fd23"
      },
      "source": [
        "print('x_train shape:', x_train.shape)\n",
        "print(x_train.shape[0], 'train samples')\n",
        "print(x_test.shape[0], 'test samples')\n",
        "\n",
        "batch_size = 64\n",
        "\n",
        "epochs = 128\n",
        "\n",
        "model = Sequential()\n",
        "model.add(Conv2D(32, (3, 1), padding='valid', input_shape=(3, 1, 1), activation='relu')) # 이게 kernel 돌려가면서 학습하는 효과가 과연 있을까..? convolution 연산하는 의미가 있나..? \n",
        "model.add(MaxPooling2D(pool_size=(1, 1), strides=(1, 1)))\n",
        "\n",
        "model.add(Conv2D(64, (2, 1), activation='relu', padding='same'))\n",
        "model.add(MaxPooling2D(pool_size=(1,1)))\n",
        "\n",
        "model.add(Conv2D(128, (1, 1), activation='relu', padding='same'))\n",
        "model.add(MaxPooling2D(pool_size=(1,1)))\n",
        "\n",
        "\n",
        "model.add(Flatten())\n",
        "model.add(Dense(32, activation='relu'))\n",
        "model.add(Dropout(0.5))\n",
        "\n",
        "model.add(Dense(64, activation='relu'))\n",
        "model.add(Dropout(0.25))\n",
        "\n",
        "model.add(Dense(128, activation='relu'))\n",
        "model.add(Dropout(0.125))\n",
        "model.add(Dense(num_classes, activation='softmax'))\n",
        "model.summary()\n"
      ],
      "execution_count": null,
      "outputs": [
        {
          "output_type": "stream",
          "text": [
            "x_train shape: (40880, 3, 1, 1)\n",
            "40880 train samples\n",
            "44286 test samples\n",
            "Model: \"sequential\"\n",
            "_________________________________________________________________\n",
            "Layer (type)                 Output Shape              Param #   \n",
            "=================================================================\n",
            "conv2d (Conv2D)              (None, 1, 1, 32)          128       \n",
            "_________________________________________________________________\n",
            "max_pooling2d (MaxPooling2D) (None, 1, 1, 32)          0         \n",
            "_________________________________________________________________\n",
            "conv2d_1 (Conv2D)            (None, 1, 1, 64)          4160      \n",
            "_________________________________________________________________\n",
            "max_pooling2d_1 (MaxPooling2 (None, 1, 1, 64)          0         \n",
            "_________________________________________________________________\n",
            "conv2d_2 (Conv2D)            (None, 1, 1, 128)         8320      \n",
            "_________________________________________________________________\n",
            "max_pooling2d_2 (MaxPooling2 (None, 1, 1, 128)         0         \n",
            "_________________________________________________________________\n",
            "flatten (Flatten)            (None, 128)               0         \n",
            "_________________________________________________________________\n",
            "dense (Dense)                (None, 32)                4128      \n",
            "_________________________________________________________________\n",
            "dropout (Dropout)            (None, 32)                0         \n",
            "_________________________________________________________________\n",
            "dense_1 (Dense)              (None, 64)                2112      \n",
            "_________________________________________________________________\n",
            "dropout_1 (Dropout)          (None, 64)                0         \n",
            "_________________________________________________________________\n",
            "dense_2 (Dense)              (None, 128)               8320      \n",
            "_________________________________________________________________\n",
            "dropout_2 (Dropout)          (None, 128)               0         \n",
            "_________________________________________________________________\n",
            "dense_3 (Dense)              (None, 2)                 258       \n",
            "=================================================================\n",
            "Total params: 27,426\n",
            "Trainable params: 27,426\n",
            "Non-trainable params: 0\n",
            "_________________________________________________________________\n"
          ],
          "name": "stdout"
        }
      ]
    },
    {
      "cell_type": "code",
      "metadata": {
        "colab": {
          "base_uri": "https://localhost:8080/"
        },
        "id": "ekqvs2eR-MmY",
        "outputId": "80bc01b5-5047-46d9-8488-cdd8b5cfbd62"
      },
      "source": [
        "model.compile(loss='categorical_crossentropy', optimizer='adam', metrics=['accuracy'])\n",
        "print(len(x_train),len(y_train))"
      ],
      "execution_count": null,
      "outputs": [
        {
          "output_type": "stream",
          "text": [
            "40880 40880\n"
          ],
          "name": "stdout"
        }
      ]
    },
    {
      "cell_type": "code",
      "metadata": {
        "colab": {
          "base_uri": "https://localhost:8080/"
        },
        "id": "eEt3kcFW-Pi6",
        "outputId": "2f6a44d2-bd9d-424c-ab84-f5c8730c4e7e"
      },
      "source": [
        "\n",
        "hist = model.fit(x_train, y_train, batch_size=batch_size, epochs=epochs)\n",
        "\n",
        "score = model.evaluate(x_test, y_test, verbose=0)\n",
        "print('Test loss:', score[0])\n",
        "print('Test accuracy:', score[1])"
      ],
      "execution_count": null,
      "outputs": [
        {
          "output_type": "stream",
          "text": [
            "Epoch 1/128\n",
            "639/639 [==============================] - 18s 3ms/step - loss: 0.4401 - accuracy: 0.7866\n",
            "Epoch 2/128\n",
            "639/639 [==============================] - 2s 3ms/step - loss: 0.3605 - accuracy: 0.8489\n",
            "Epoch 3/128\n",
            "639/639 [==============================] - 2s 3ms/step - loss: 0.3478 - accuracy: 0.8555\n",
            "Epoch 4/128\n",
            "639/639 [==============================] - 2s 3ms/step - loss: 0.3460 - accuracy: 0.8563\n",
            "Epoch 5/128\n",
            "639/639 [==============================] - 2s 3ms/step - loss: 0.3376 - accuracy: 0.8563\n",
            "Epoch 6/128\n",
            "639/639 [==============================] - 2s 3ms/step - loss: 0.3465 - accuracy: 0.8578\n",
            "Epoch 7/128\n",
            "639/639 [==============================] - 2s 3ms/step - loss: 0.3403 - accuracy: 0.8617\n",
            "Epoch 8/128\n",
            "639/639 [==============================] - 2s 3ms/step - loss: 0.3500 - accuracy: 0.8549\n",
            "Epoch 9/128\n",
            "639/639 [==============================] - 2s 3ms/step - loss: 0.3429 - accuracy: 0.8567\n",
            "Epoch 10/128\n",
            "639/639 [==============================] - 2s 3ms/step - loss: 0.3386 - accuracy: 0.8585\n",
            "Epoch 11/128\n",
            "639/639 [==============================] - 2s 3ms/step - loss: 0.3332 - accuracy: 0.8610\n",
            "Epoch 12/128\n",
            "639/639 [==============================] - 2s 3ms/step - loss: 0.3388 - accuracy: 0.8609\n",
            "Epoch 13/128\n",
            "639/639 [==============================] - 2s 3ms/step - loss: 0.3477 - accuracy: 0.8525\n",
            "Epoch 14/128\n",
            "639/639 [==============================] - 2s 3ms/step - loss: 0.3344 - accuracy: 0.8601\n",
            "Epoch 15/128\n",
            "639/639 [==============================] - 2s 3ms/step - loss: 0.3368 - accuracy: 0.8556\n",
            "Epoch 16/128\n",
            "639/639 [==============================] - 2s 3ms/step - loss: 0.3314 - accuracy: 0.8649\n",
            "Epoch 17/128\n",
            "639/639 [==============================] - 2s 3ms/step - loss: 0.3356 - accuracy: 0.8588\n",
            "Epoch 18/128\n",
            "639/639 [==============================] - 2s 3ms/step - loss: 0.3363 - accuracy: 0.8612\n",
            "Epoch 19/128\n",
            "639/639 [==============================] - 2s 3ms/step - loss: 0.3378 - accuracy: 0.8581\n",
            "Epoch 20/128\n",
            "639/639 [==============================] - 2s 3ms/step - loss: 0.3308 - accuracy: 0.8606\n",
            "Epoch 21/128\n",
            "639/639 [==============================] - 2s 3ms/step - loss: 0.3337 - accuracy: 0.8607\n",
            "Epoch 22/128\n",
            "639/639 [==============================] - 2s 3ms/step - loss: 0.3392 - accuracy: 0.8514\n",
            "Epoch 23/128\n",
            "639/639 [==============================] - 2s 3ms/step - loss: 0.3333 - accuracy: 0.8587\n",
            "Epoch 24/128\n",
            "639/639 [==============================] - 2s 3ms/step - loss: 0.3362 - accuracy: 0.8599\n",
            "Epoch 25/128\n",
            "639/639 [==============================] - 2s 3ms/step - loss: 0.3320 - accuracy: 0.8599\n",
            "Epoch 26/128\n",
            "639/639 [==============================] - 2s 3ms/step - loss: 0.3292 - accuracy: 0.8632\n",
            "Epoch 27/128\n",
            "639/639 [==============================] - 2s 3ms/step - loss: 0.3253 - accuracy: 0.8619\n",
            "Epoch 28/128\n",
            "639/639 [==============================] - 2s 3ms/step - loss: 0.3260 - accuracy: 0.8633\n",
            "Epoch 29/128\n",
            "639/639 [==============================] - 2s 3ms/step - loss: 0.3289 - accuracy: 0.8609\n",
            "Epoch 30/128\n",
            "639/639 [==============================] - 2s 3ms/step - loss: 0.3178 - accuracy: 0.8625\n",
            "Epoch 31/128\n",
            "639/639 [==============================] - 2s 3ms/step - loss: 0.3287 - accuracy: 0.8560\n",
            "Epoch 32/128\n",
            "639/639 [==============================] - 2s 3ms/step - loss: 0.3284 - accuracy: 0.8552\n",
            "Epoch 33/128\n",
            "639/639 [==============================] - 2s 3ms/step - loss: 0.3294 - accuracy: 0.8576\n",
            "Epoch 34/128\n",
            "639/639 [==============================] - 2s 3ms/step - loss: 0.3256 - accuracy: 0.8624\n",
            "Epoch 35/128\n",
            "639/639 [==============================] - 2s 3ms/step - loss: 0.3292 - accuracy: 0.8605\n",
            "Epoch 36/128\n",
            "639/639 [==============================] - 2s 3ms/step - loss: 0.3238 - accuracy: 0.8606\n",
            "Epoch 37/128\n",
            "639/639 [==============================] - 2s 3ms/step - loss: 0.3370 - accuracy: 0.8503\n",
            "Epoch 38/128\n",
            "639/639 [==============================] - 2s 3ms/step - loss: 0.3290 - accuracy: 0.8569\n",
            "Epoch 39/128\n",
            "639/639 [==============================] - 2s 3ms/step - loss: 0.3350 - accuracy: 0.8553\n",
            "Epoch 40/128\n",
            "639/639 [==============================] - 2s 3ms/step - loss: 0.3253 - accuracy: 0.8629\n",
            "Epoch 41/128\n",
            "639/639 [==============================] - 2s 3ms/step - loss: 0.3244 - accuracy: 0.8616\n",
            "Epoch 42/128\n",
            "639/639 [==============================] - 2s 3ms/step - loss: 0.3294 - accuracy: 0.8563\n",
            "Epoch 43/128\n",
            "639/639 [==============================] - 2s 3ms/step - loss: 0.3350 - accuracy: 0.8535\n",
            "Epoch 44/128\n",
            "639/639 [==============================] - 2s 3ms/step - loss: 0.3238 - accuracy: 0.8615\n",
            "Epoch 45/128\n",
            "639/639 [==============================] - 2s 3ms/step - loss: 0.3201 - accuracy: 0.8661\n",
            "Epoch 46/128\n",
            "639/639 [==============================] - 2s 3ms/step - loss: 0.3269 - accuracy: 0.8592\n",
            "Epoch 47/128\n",
            "639/639 [==============================] - 2s 3ms/step - loss: 0.3211 - accuracy: 0.8630\n",
            "Epoch 48/128\n",
            "639/639 [==============================] - 2s 3ms/step - loss: 0.3186 - accuracy: 0.8653\n",
            "Epoch 49/128\n",
            "639/639 [==============================] - 2s 3ms/step - loss: 0.3247 - accuracy: 0.8600\n",
            "Epoch 50/128\n",
            "639/639 [==============================] - 2s 3ms/step - loss: 0.3209 - accuracy: 0.8622\n",
            "Epoch 51/128\n",
            "639/639 [==============================] - 2s 3ms/step - loss: 0.3276 - accuracy: 0.8523\n",
            "Epoch 52/128\n",
            "639/639 [==============================] - 2s 3ms/step - loss: 0.3243 - accuracy: 0.8633\n",
            "Epoch 53/128\n",
            "639/639 [==============================] - 2s 3ms/step - loss: 0.3201 - accuracy: 0.8608\n",
            "Epoch 54/128\n",
            "639/639 [==============================] - 2s 3ms/step - loss: 0.3241 - accuracy: 0.8596\n",
            "Epoch 55/128\n",
            "639/639 [==============================] - 2s 3ms/step - loss: 0.3116 - accuracy: 0.8684\n",
            "Epoch 56/128\n",
            "639/639 [==============================] - 2s 3ms/step - loss: 0.3275 - accuracy: 0.8548\n",
            "Epoch 57/128\n",
            "639/639 [==============================] - 2s 3ms/step - loss: 0.3152 - accuracy: 0.8635\n",
            "Epoch 58/128\n",
            "639/639 [==============================] - 2s 3ms/step - loss: 0.3215 - accuracy: 0.8633\n",
            "Epoch 59/128\n",
            "639/639 [==============================] - 2s 3ms/step - loss: 0.3171 - accuracy: 0.8651\n",
            "Epoch 60/128\n",
            "639/639 [==============================] - 2s 3ms/step - loss: 0.3168 - accuracy: 0.8652\n",
            "Epoch 61/128\n",
            "639/639 [==============================] - 2s 3ms/step - loss: 0.3143 - accuracy: 0.8637\n",
            "Epoch 62/128\n",
            "639/639 [==============================] - 2s 3ms/step - loss: 0.3162 - accuracy: 0.8649\n",
            "Epoch 63/128\n",
            "639/639 [==============================] - 2s 3ms/step - loss: 0.3173 - accuracy: 0.8647\n",
            "Epoch 64/128\n",
            "639/639 [==============================] - 2s 3ms/step - loss: 0.3194 - accuracy: 0.8611\n",
            "Epoch 65/128\n",
            "639/639 [==============================] - 2s 3ms/step - loss: 0.3221 - accuracy: 0.8564\n",
            "Epoch 66/128\n",
            "639/639 [==============================] - 2s 3ms/step - loss: 0.3148 - accuracy: 0.8626\n",
            "Epoch 67/128\n",
            "639/639 [==============================] - 2s 3ms/step - loss: 0.3084 - accuracy: 0.8673\n",
            "Epoch 68/128\n",
            "639/639 [==============================] - 2s 3ms/step - loss: 0.3223 - accuracy: 0.8557\n",
            "Epoch 69/128\n",
            "639/639 [==============================] - 2s 3ms/step - loss: 0.3146 - accuracy: 0.8648\n",
            "Epoch 70/128\n",
            "639/639 [==============================] - 2s 3ms/step - loss: 0.3175 - accuracy: 0.8585\n",
            "Epoch 71/128\n",
            "639/639 [==============================] - 2s 3ms/step - loss: 0.3157 - accuracy: 0.8629\n",
            "Epoch 72/128\n",
            "639/639 [==============================] - 2s 3ms/step - loss: 0.3180 - accuracy: 0.8628\n",
            "Epoch 73/128\n",
            "639/639 [==============================] - 2s 3ms/step - loss: 0.3133 - accuracy: 0.8635\n",
            "Epoch 74/128\n",
            "639/639 [==============================] - 2s 3ms/step - loss: 0.3149 - accuracy: 0.8591\n",
            "Epoch 75/128\n",
            "639/639 [==============================] - 2s 3ms/step - loss: 0.3226 - accuracy: 0.8521\n",
            "Epoch 76/128\n",
            "639/639 [==============================] - 2s 3ms/step - loss: 0.3144 - accuracy: 0.8594\n",
            "Epoch 77/128\n",
            "639/639 [==============================] - 2s 3ms/step - loss: 0.3185 - accuracy: 0.8605\n",
            "Epoch 78/128\n",
            "639/639 [==============================] - 2s 3ms/step - loss: 0.3140 - accuracy: 0.8631\n",
            "Epoch 79/128\n",
            "639/639 [==============================] - 2s 3ms/step - loss: 0.3147 - accuracy: 0.8624\n",
            "Epoch 80/128\n",
            "639/639 [==============================] - 2s 3ms/step - loss: 0.3109 - accuracy: 0.8644\n",
            "Epoch 81/128\n",
            "639/639 [==============================] - 2s 3ms/step - loss: 0.3144 - accuracy: 0.8619\n",
            "Epoch 82/128\n",
            "639/639 [==============================] - 2s 3ms/step - loss: 0.3131 - accuracy: 0.8595\n",
            "Epoch 83/128\n",
            "639/639 [==============================] - 2s 3ms/step - loss: 0.3172 - accuracy: 0.8591\n",
            "Epoch 84/128\n",
            "639/639 [==============================] - 2s 3ms/step - loss: 0.3173 - accuracy: 0.8512\n",
            "Epoch 85/128\n",
            "639/639 [==============================] - 2s 3ms/step - loss: 0.3095 - accuracy: 0.8615\n",
            "Epoch 86/128\n",
            "639/639 [==============================] - 2s 3ms/step - loss: 0.3046 - accuracy: 0.8659\n",
            "Epoch 87/128\n",
            "639/639 [==============================] - 2s 3ms/step - loss: 0.3106 - accuracy: 0.8575\n",
            "Epoch 88/128\n",
            "639/639 [==============================] - 2s 3ms/step - loss: 0.3232 - accuracy: 0.8439\n",
            "Epoch 89/128\n",
            "639/639 [==============================] - 2s 3ms/step - loss: 0.3061 - accuracy: 0.8641\n",
            "Epoch 90/128\n",
            "639/639 [==============================] - 2s 3ms/step - loss: 0.3058 - accuracy: 0.8597\n",
            "Epoch 91/128\n",
            "639/639 [==============================] - 2s 3ms/step - loss: 0.3053 - accuracy: 0.8665\n",
            "Epoch 92/128\n",
            "639/639 [==============================] - 2s 3ms/step - loss: 0.3106 - accuracy: 0.8596\n",
            "Epoch 93/128\n",
            "639/639 [==============================] - 2s 3ms/step - loss: 0.3076 - accuracy: 0.8615\n",
            "Epoch 94/128\n",
            "639/639 [==============================] - 2s 3ms/step - loss: 0.3158 - accuracy: 0.8540\n",
            "Epoch 95/128\n",
            "639/639 [==============================] - 2s 3ms/step - loss: 0.3093 - accuracy: 0.8603\n",
            "Epoch 96/128\n",
            "639/639 [==============================] - 2s 3ms/step - loss: 0.3029 - accuracy: 0.8646\n",
            "Epoch 97/128\n",
            "639/639 [==============================] - 2s 3ms/step - loss: 0.3078 - accuracy: 0.8603\n",
            "Epoch 98/128\n",
            "639/639 [==============================] - 2s 3ms/step - loss: 0.3131 - accuracy: 0.8511\n",
            "Epoch 99/128\n",
            "639/639 [==============================] - 2s 3ms/step - loss: 0.3061 - accuracy: 0.8633\n",
            "Epoch 100/128\n",
            "639/639 [==============================] - 2s 3ms/step - loss: 0.3216 - accuracy: 0.8492\n",
            "Epoch 101/128\n",
            "639/639 [==============================] - 2s 3ms/step - loss: 0.3083 - accuracy: 0.8577\n",
            "Epoch 102/128\n",
            "639/639 [==============================] - 2s 3ms/step - loss: 0.3086 - accuracy: 0.8571\n",
            "Epoch 103/128\n",
            "639/639 [==============================] - 2s 3ms/step - loss: 0.3031 - accuracy: 0.8664\n",
            "Epoch 104/128\n",
            "639/639 [==============================] - 2s 3ms/step - loss: 0.3083 - accuracy: 0.8619\n",
            "Epoch 105/128\n",
            "639/639 [==============================] - 2s 3ms/step - loss: 0.3093 - accuracy: 0.8614\n",
            "Epoch 106/128\n",
            "639/639 [==============================] - 2s 3ms/step - loss: 0.3071 - accuracy: 0.8627\n",
            "Epoch 107/128\n",
            "639/639 [==============================] - 2s 3ms/step - loss: 0.3091 - accuracy: 0.8608\n",
            "Epoch 108/128\n",
            "639/639 [==============================] - 2s 3ms/step - loss: 0.3058 - accuracy: 0.8647\n",
            "Epoch 109/128\n",
            "639/639 [==============================] - 2s 3ms/step - loss: 0.3084 - accuracy: 0.8546\n",
            "Epoch 110/128\n",
            "639/639 [==============================] - 2s 3ms/step - loss: 0.3049 - accuracy: 0.8643\n",
            "Epoch 111/128\n",
            "639/639 [==============================] - 2s 3ms/step - loss: 0.2944 - accuracy: 0.8675\n",
            "Epoch 112/128\n",
            "639/639 [==============================] - 2s 3ms/step - loss: 0.3013 - accuracy: 0.8630\n",
            "Epoch 113/128\n",
            "639/639 [==============================] - 2s 3ms/step - loss: 0.2995 - accuracy: 0.8623\n",
            "Epoch 114/128\n",
            "639/639 [==============================] - 2s 3ms/step - loss: 0.3093 - accuracy: 0.8573\n",
            "Epoch 115/128\n",
            "639/639 [==============================] - 2s 3ms/step - loss: 0.3269 - accuracy: 0.8497\n",
            "Epoch 116/128\n",
            "639/639 [==============================] - 2s 3ms/step - loss: 0.2990 - accuracy: 0.8648\n",
            "Epoch 117/128\n",
            "639/639 [==============================] - 2s 3ms/step - loss: 0.3162 - accuracy: 0.8527\n",
            "Epoch 118/128\n",
            "639/639 [==============================] - 2s 3ms/step - loss: 0.3068 - accuracy: 0.8563\n",
            "Epoch 119/128\n",
            "639/639 [==============================] - 2s 3ms/step - loss: 0.3004 - accuracy: 0.8651\n",
            "Epoch 120/128\n",
            "639/639 [==============================] - 2s 3ms/step - loss: 0.2975 - accuracy: 0.8676\n",
            "Epoch 121/128\n",
            "639/639 [==============================] - 2s 3ms/step - loss: 0.3082 - accuracy: 0.8583\n",
            "Epoch 122/128\n",
            "639/639 [==============================] - 2s 3ms/step - loss: 0.3073 - accuracy: 0.8645\n",
            "Epoch 123/128\n",
            "639/639 [==============================] - 2s 3ms/step - loss: 0.2945 - accuracy: 0.8640\n",
            "Epoch 124/128\n",
            "639/639 [==============================] - 2s 3ms/step - loss: 0.2949 - accuracy: 0.8672\n",
            "Epoch 125/128\n",
            "639/639 [==============================] - 2s 3ms/step - loss: 0.3015 - accuracy: 0.8631\n",
            "Epoch 126/128\n",
            "639/639 [==============================] - 2s 3ms/step - loss: 0.3028 - accuracy: 0.8607\n",
            "Epoch 127/128\n",
            "639/639 [==============================] - 2s 3ms/step - loss: 0.2945 - accuracy: 0.8656\n",
            "Epoch 128/128\n",
            "639/639 [==============================] - 2s 3ms/step - loss: 0.2982 - accuracy: 0.8621\n",
            "Test loss: 0.6079095602035522\n",
            "Test accuracy: 0.8383010625839233\n"
          ],
          "name": "stdout"
        }
      ]
    },
    {
      "cell_type": "code",
      "metadata": {
        "id": "gOdvEGy2-Rno"
      },
      "source": [
        "%matplotlib inline\n",
        "import matplotlib.pyplot as plt"
      ],
      "execution_count": null,
      "outputs": []
    },
    {
      "cell_type": "code",
      "metadata": {
        "id": "7AEVUfPnlOpQ",
        "colab": {
          "base_uri": "https://localhost:8080/"
        },
        "outputId": "363ed69f-bb4b-4207-af24-97c39e415827"
      },
      "source": [
        "hist.history"
      ],
      "execution_count": null,
      "outputs": [
        {
          "output_type": "execute_result",
          "data": {
            "text/plain": [
              "{'accuracy': [0.8310909867286682,\n",
              "  0.8526418805122375,\n",
              "  0.8559442162513733,\n",
              "  0.8563600778579712,\n",
              "  0.8551614284515381,\n",
              "  0.857191801071167,\n",
              "  0.8606164455413818,\n",
              "  0.8548189997673035,\n",
              "  0.8572406768798828,\n",
              "  0.8588062524795532,\n",
              "  0.860322892665863,\n",
              "  0.8590264320373535,\n",
              "  0.8565068244934082,\n",
              "  0.8617416620254517,\n",
              "  0.8565313220024109,\n",
              "  0.8620597124099731,\n",
              "  0.8593688607215881,\n",
              "  0.8610323071479797,\n",
              "  0.8604452013969421,\n",
              "  0.8611056804656982,\n",
              "  0.8592954874038696,\n",
              "  0.8526418805122375,\n",
              "  0.8608365654945374,\n",
              "  0.8615704774856567,\n",
              "  0.8615949153900146,\n",
              "  0.8623777031898499,\n",
              "  0.8602495193481445,\n",
              "  0.8609344363212585,\n",
              "  0.8620597124099731,\n",
              "  0.8586595058441162,\n",
              "  0.8604452013969421,\n",
              "  0.8555283546447754,\n",
              "  0.859784722328186,\n",
              "  0.8625978231430054,\n",
              "  0.8630136847496033,\n",
              "  0.8570449948310852,\n",
              "  0.850807249546051,\n",
              "  0.857338547706604,\n",
              "  0.8546966910362244,\n",
              "  0.8602005839347839,\n",
              "  0.8605919480323792,\n",
              "  0.8611056804656982,\n",
              "  0.8560910224914551,\n",
              "  0.8611301183700562,\n",
              "  0.8618639707565308,\n",
              "  0.8598092198371887,\n",
              "  0.8619862794876099,\n",
              "  0.8639921545982361,\n",
              "  0.8617905974388123,\n",
              "  0.861007809638977,\n",
              "  0.8599315285682678,\n",
              "  0.8622798323631287,\n",
              "  0.86372309923172,\n",
              "  0.857191801071167,\n",
              "  0.8659246563911438,\n",
              "  0.8577788472175598,\n",
              "  0.8631604909896851,\n",
              "  0.8580968976020813,\n",
              "  0.8641144633293152,\n",
              "  0.8651908040046692,\n",
              "  0.8609589338302612,\n",
              "  0.8647505044937134,\n",
              "  0.862500011920929,\n",
              "  0.863038182258606,\n",
              "  0.8619129061698914,\n",
              "  0.8635518550872803,\n",
              "  0.8660469651222229,\n",
              "  0.8596624135971069,\n",
              "  0.865484356880188,\n",
              "  0.8568493127822876,\n",
              "  0.8616193532943726,\n",
              "  0.862500011920929,\n",
              "  0.8602739572525024,\n",
              "  0.8601272106170654,\n",
              "  0.8508316874504089,\n",
              "  0.8606164455413818,\n",
              "  0.8621575236320496,\n",
              "  0.8658023476600647,\n",
              "  0.8624755144119263,\n",
              "  0.8629647493362427,\n",
              "  0.8629647493362427,\n",
              "  0.8625244498252869,\n",
              "  0.8609589338302612,\n",
              "  0.8584882616996765,\n",
              "  0.8632827997207642,\n",
              "  0.8626712560653687,\n",
              "  0.8474559783935547,\n",
              "  0.8435176014900208,\n",
              "  0.8622064590454102,\n",
              "  0.8615704774856567,\n",
              "  0.8653131127357483,\n",
              "  0.8624266386032104,\n",
              "  0.8631359934806824,\n",
              "  0.8593933582305908,\n",
              "  0.8608365654945374,\n",
              "  0.8640166521072388,\n",
              "  0.8503424525260925,\n",
              "  0.8564823865890503,\n",
              "  0.8589285612106323,\n",
              "  0.8570449948310852,\n",
              "  0.8601272106170654,\n",
              "  0.8604696393013,\n",
              "  0.8648728132247925,\n",
              "  0.8648972511291504,\n",
              "  0.8605675101280212,\n",
              "  0.8640900254249573,\n",
              "  0.8578033447265625,\n",
              "  0.8651418685913086,\n",
              "  0.8586350083351135,\n",
              "  0.864946186542511,\n",
              "  0.8662426471710205,\n",
              "  0.862108588218689,\n",
              "  0.8551614284515381,\n",
              "  0.8638454079627991,\n",
              "  0.8568493127822876,\n",
              "  0.8653375506401062,\n",
              "  0.859246551990509,\n",
              "  0.8624510765075684,\n",
              "  0.8625489473342896,\n",
              "  0.8612279891967773,\n",
              "  0.8596624135971069,\n",
              "  0.8634539842605591,\n",
              "  0.8647015690803528,\n",
              "  0.8633561730384827,\n",
              "  0.8569226861000061,\n",
              "  0.8651418685913086,\n",
              "  0.8665117621421814,\n",
              "  0.8582680821418762],\n",
              " 'loss': [0.3836032748222351,\n",
              "  0.3526148796081543,\n",
              "  0.34669092297554016,\n",
              "  0.345511794090271,\n",
              "  0.34470611810684204,\n",
              "  0.3423091173171997,\n",
              "  0.339521586894989,\n",
              "  0.3430386483669281,\n",
              "  0.3417377173900604,\n",
              "  0.339198499917984,\n",
              "  0.3369608223438263,\n",
              "  0.33898359537124634,\n",
              "  0.3407532870769501,\n",
              "  0.3354618549346924,\n",
              "  0.3381083905696869,\n",
              "  0.33418676257133484,\n",
              "  0.3354546129703522,\n",
              "  0.335904598236084,\n",
              "  0.33544331789016724,\n",
              "  0.3333519995212555,\n",
              "  0.3333975672721863,\n",
              "  0.33828288316726685,\n",
              "  0.3324575126171112,\n",
              "  0.33193114399909973,\n",
              "  0.33071577548980713,\n",
              "  0.32885250449180603,\n",
              "  0.3299216628074646,\n",
              "  0.32910776138305664,\n",
              "  0.3281986117362976,\n",
              "  0.329275518655777,\n",
              "  0.32649073004722595,\n",
              "  0.33053889870643616,\n",
              "  0.328380286693573,\n",
              "  0.3260623514652252,\n",
              "  0.3241027593612671,\n",
              "  0.33183833956718445,\n",
              "  0.334762841463089,\n",
              "  0.3292003870010376,\n",
              "  0.3337557017803192,\n",
              "  0.3277522325515747,\n",
              "  0.3269229829311371,\n",
              "  0.3259594440460205,\n",
              "  0.331826776266098,\n",
              "  0.3257332146167755,\n",
              "  0.32512491941452026,\n",
              "  0.3262097239494324,\n",
              "  0.32337480783462524,\n",
              "  0.320248007774353,\n",
              "  0.3230949640274048,\n",
              "  0.3232681453227997,\n",
              "  0.32327795028686523,\n",
              "  0.32225823402404785,\n",
              "  0.31890419125556946,\n",
              "  0.3240429759025574,\n",
              "  0.31507620215415955,\n",
              "  0.3237297236919403,\n",
              "  0.318510502576828,\n",
              "  0.3250053822994232,\n",
              "  0.3196294903755188,\n",
              "  0.3168496787548065,\n",
              "  0.32041314244270325,\n",
              "  0.3161437213420868,\n",
              "  0.3199321925640106,\n",
              "  0.3192136883735657,\n",
              "  0.3178090453147888,\n",
              "  0.3165101110935211,\n",
              "  0.3137693703174591,\n",
              "  0.31941652297973633,\n",
              "  0.312917560338974,\n",
              "  0.319477915763855,\n",
              "  0.31772276759147644,\n",
              "  0.3157086670398712,\n",
              "  0.3178500235080719,\n",
              "  0.31569743156433105,\n",
              "  0.3218523859977722,\n",
              "  0.31600844860076904,\n",
              "  0.31457051634788513,\n",
              "  0.3099244236946106,\n",
              "  0.3145001530647278,\n",
              "  0.31181687116622925,\n",
              "  0.3124234676361084,\n",
              "  0.3100755214691162,\n",
              "  0.31321442127227783,\n",
              "  0.31154751777648926,\n",
              "  0.3083473742008209,\n",
              "  0.3086422085762024,\n",
              "  0.32116472721099854,\n",
              "  0.32181516289711,\n",
              "  0.30910545587539673,\n",
              "  0.3095906972885132,\n",
              "  0.3043399453163147,\n",
              "  0.307972252368927,\n",
              "  0.30642086267471313,\n",
              "  0.31022995710372925,\n",
              "  0.30846884846687317,\n",
              "  0.30582395195961,\n",
              "  0.31444522738456726,\n",
              "  0.3107568919658661,\n",
              "  0.3113914728164673,\n",
              "  0.3144758939743042,\n",
              "  0.3087407052516937,\n",
              "  0.3090239465236664,\n",
              "  0.3047051429748535,\n",
              "  0.30478426814079285,\n",
              "  0.31068623065948486,\n",
              "  0.3047935366630554,\n",
              "  0.3110889494419098,\n",
              "  0.3030673563480377,\n",
              "  0.3079250752925873,\n",
              "  0.30137211084365845,\n",
              "  0.29693490266799927,\n",
              "  0.30305394530296326,\n",
              "  0.30819565057754517,\n",
              "  0.3016240894794464,\n",
              "  0.3162366449832916,\n",
              "  0.2983989119529724,\n",
              "  0.3058784604072571,\n",
              "  0.3019598126411438,\n",
              "  0.3039969801902771,\n",
              "  0.3027949929237366,\n",
              "  0.3047011196613312,\n",
              "  0.3042584955692291,\n",
              "  0.29398030042648315,\n",
              "  0.29985398054122925,\n",
              "  0.30628371238708496,\n",
              "  0.298511803150177,\n",
              "  0.2931479513645172,\n",
              "  0.3071313798427582]}"
            ]
          },
          "metadata": {
            "tags": []
          },
          "execution_count": 28
        }
      ]
    },
    {
      "cell_type": "code",
      "metadata": {
        "id": "xU8ijQ7MFb04",
        "colab": {
          "base_uri": "https://localhost:8080/",
          "height": 279
        },
        "outputId": "881c90f3-74a5-4d9c-8598-8866f45efeb5"
      },
      "source": [
        "%matplotlib inline\n",
        "import matplotlib.pyplot as plt\n",
        "\n",
        "\n",
        "fig, loss_ax = plt.subplots()\n",
        "acc_ax = loss_ax.twinx()\n",
        "loss_ax.plot(hist.history['loss'], 'y', label='train loss')\n",
        "acc_ax.plot(hist.history['accuracy'], 'b', label='train acc')\n",
        "loss_ax.set_xlabel('epoch')\n",
        "loss_ax.set_ylabel('loss')\n",
        "acc_ax.set_ylabel('accuray')\n",
        "\n",
        "loss_ax.legend(loc='upper left')\n",
        "acc_ax.legend(loc='lower left')\n",
        "\n",
        "plt.show()"
      ],
      "execution_count": null,
      "outputs": [
        {
          "output_type": "display_data",
          "data": {
            "image/png": "[encoded data removed]",
            "text/plain": [
              "<Figure size 432x288 with 2 Axes>"
            ]
          },
          "metadata": {
            "tags": [],
            "needs_background": "light"
          }
        }
      ]
    },
    {
      "cell_type": "code",
      "metadata": {
        "id": "-xBVCF3jltMl"
      },
      "source": [
        ""
      ],
      "execution_count": null,
      "outputs": []
    }
  ]
}